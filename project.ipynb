{
 "cells": [
  {
   "cell_type": "markdown",
   "metadata": {
    "id": "Md413FzAvFD8"
   },
   "source": [
    "# DX 704 Week 4 Project\n",
    "\n",
    "This week's project will test the learning speed of linear contextual bandits compared to unoptimized approaches.\n",
    "You will start with building a preference data set for evaluation, and then implement different variations of LinUCB and visualize how fast they learn the preferences.\n"
   ]
  },
  {
   "cell_type": "markdown",
   "metadata": {
    "id": "D3gs-tquuzJe"
   },
   "source": [
    "The full project description, a template notebook and supporting code are available on GitHub: [Project 4 Materials](https://github.com/bu-cds-dx704/dx704-project-04).\n"
   ]
  },
  {
   "cell_type": "markdown",
   "metadata": {
    "id": "OguIjc5idW3Z"
   },
   "source": [
    "## Example Code\n",
    "\n",
    "You may find it helpful to refer to these GitHub repositories of Jupyter notebooks for example code.\n",
    "\n",
    "* https://github.com/bu-cds-omds/dx601-examples\n",
    "* https://github.com/bu-cds-omds/dx602-examples\n",
    "* https://github.com/bu-cds-omds/dx603-examples\n",
    "* https://github.com/bu-cds-omds/dx704-examples\n",
    "\n",
    "Any calculations demonstrated in code examples or videos may be found in these notebooks, and you are allowed to copy this example code in your homework answers."
   ]
  },
  {
   "cell_type": "markdown",
   "metadata": {
    "id": "C8oSLkMqvMFF"
   },
   "source": [
    "## Part 1: Collect Rating Data\n",
    "\n",
    "The file \"recipes.tsv\" in this repository has information about 100 recipes.\n",
    "Make a new file \"ratings.tsv\" with two columns, recipe_slug (from recipes.tsv) and rating.\n",
    "Populate the rating column with values between 0 and 1 where 0 is the worst and 1 is the best.\n",
    "You can assign these ratings however you want within that range, but try to make it reflect a consistent set of preferences.\n",
    "These could be your preferences, or a persona of your choosing (e.g. chocolate lover, bacon-obsessed, or sweet tooth).\n",
    "Make sure that there are at least 10 ratings of zero and at least 10 ratings of one.\n"
   ]
  },
  {
   "cell_type": "markdown",
   "metadata": {
    "id": "kAwViBgKfWER"
   },
   "source": [
    "Hint: You may find it more convenient to assign raw ratings from 1 to 5 and then remap them as follows.\n",
    "\n",
    "`ratings[\"rating\"] = (ratings[\"rating_raw\"] - 1) * 0.25`"
   ]
  },
  {
   "cell_type": "code",
   "execution_count": 1,
   "metadata": {},
   "outputs": [],
   "source": [
    "import pandas as pd\n",
    "import numpy as np\n",
    "\n",
    "pd.set_option('display.max_rows', None)\n",
    "df = pd.read_csv(\"recipes.tsv\", sep=\"\\t\")\n",
    "\n",
    "def add_feature(feature_name, multiplier=1):\n",
    "    df[feature_name] = df['recipe_title'].str.lower().str.contains(feature_name.lower())\n",
    "    df[feature_name] = df[feature_name].astype(int) * multiplier\n",
    "\n",
    "# Add features to the dataframe\n",
    "add_feature(\"chicken\", multiplier=2)\n",
    "add_feature(\"bacon\", multiplier=10)\n",
    "add_feature(\"burrito\")\n",
    "add_feature(\"salad\")\n",
    "add_feature(\"soup\")\n",
    "add_feature(\"burger\", multiplier=2)\n",
    "add_feature(\"pasta\")\n",
    "add_feature(\"taco\")\n",
    "add_feature(\"pizza\", multiplier=2)\n",
    "add_feature(\"lasagna\", multiplier=2)\n",
    "add_feature(\"souffle\")"
   ]
  },
  {
   "cell_type": "code",
   "execution_count": 2,
   "metadata": {},
   "outputs": [],
   "source": [
    "# Identify the ingredient columns and sum them to create a raw rating\n",
    "items = df.select_dtypes(include=['int64', 'float64']).columns\n",
    "df['rating_raw'] = np.sum(df[items], axis=1)\n",
    "\n",
    "# Create a rating column that scales between 1 and 0\n",
    "df['rating'] = df['rating_raw'].apply(lambda x: 1 if x >= 10 else (0 if x <= 0 else (np.random.uniform(0,1))))\n",
    "\n",
    "# Save the dataframe to a new TSV file called ratings.tsv\n",
    "df[['recipe_slug', 'rating']].to_csv(\"ratings.tsv\", sep=\"\\t\", index=False)"
   ]
  },
  {
   "cell_type": "markdown",
   "metadata": {
    "id": "Eh7UaX6OvuWo"
   },
   "source": [
    "Submit \"ratings.tsv\" in Gradescope."
   ]
  },
  {
   "cell_type": "markdown",
   "metadata": {
    "id": "NiCwaZwr5M67"
   },
   "source": [
    "## Part 2: Construct Model Input\n",
    "\n",
    "Use your file \"ratings.tsv\" combined with \"recipe-tags.tsv\" to create a new file \"features.tsv\" with a column recipe_slug, a column bias which is hard-coded to one, and a column for each tag that appears in \"recipe-tags.tsv\".\n",
    "The tag column in this file should be a 0-1 encoding of the recipe tags for each recipe.\n",
    "[Pandas reshaping function methods](https://pandas.pydata.org/docs/user_guide/reshaping.html) may be helpful."
   ]
  },
  {
   "cell_type": "markdown",
   "metadata": {
    "id": "8WWi_JJXocEb"
   },
   "source": [
    "The bias column will make later LinUCB calculations easier since it will just be another dimension."
   ]
  },
  {
   "cell_type": "markdown",
   "metadata": {
    "id": "MHR-BsD9539j"
   },
   "source": [
    "Hint: For later modeling steps, it will be important to have the feature data (inputs) and the rating data (target outputs) in the same order.\n",
    "It is highly recommended to make sure that \"features.tsv\" and \"ratings.tsv\" have the recipe slugs in the same order."
   ]
  },
  {
   "cell_type": "code",
   "execution_count": 3,
   "metadata": {
    "id": "cGvj258d8nnv"
   },
   "outputs": [
    {
     "data": {
      "text/html": [
       "<div>\n",
       "<style scoped>\n",
       "    .dataframe tbody tr th:only-of-type {\n",
       "        vertical-align: middle;\n",
       "    }\n",
       "\n",
       "    .dataframe tbody tr th {\n",
       "        vertical-align: top;\n",
       "    }\n",
       "\n",
       "    .dataframe thead th {\n",
       "        text-align: right;\n",
       "    }\n",
       "</style>\n",
       "<table border=\"1\" class=\"dataframe\">\n",
       "  <thead>\n",
       "    <tr style=\"text-align: right;\">\n",
       "      <th></th>\n",
       "      <th>recipe_slug</th>\n",
       "      <th>bias</th>\n",
       "      <th>alfredo</th>\n",
       "      <th>almond</th>\n",
       "      <th>american</th>\n",
       "      <th>appetizer</th>\n",
       "      <th>appetizers</th>\n",
       "      <th>apple</th>\n",
       "      <th>asiancuisine</th>\n",
       "      <th>asparagus</th>\n",
       "      <th>...</th>\n",
       "      <th>udonnoodles</th>\n",
       "      <th>vanilla</th>\n",
       "      <th>vanillaicecream</th>\n",
       "      <th>vegan</th>\n",
       "      <th>vegetables</th>\n",
       "      <th>vegetarian</th>\n",
       "      <th>warm</th>\n",
       "      <th>whippedcream</th>\n",
       "      <th>winter</th>\n",
       "      <th>yeastdough</th>\n",
       "    </tr>\n",
       "  </thead>\n",
       "  <tbody>\n",
       "    <tr>\n",
       "      <th>0</th>\n",
       "      <td>falafel</td>\n",
       "      <td>1.0</td>\n",
       "      <td>0</td>\n",
       "      <td>0</td>\n",
       "      <td>0</td>\n",
       "      <td>1</td>\n",
       "      <td>0</td>\n",
       "      <td>0</td>\n",
       "      <td>0</td>\n",
       "      <td>0</td>\n",
       "      <td>...</td>\n",
       "      <td>0</td>\n",
       "      <td>0</td>\n",
       "      <td>0</td>\n",
       "      <td>1</td>\n",
       "      <td>0</td>\n",
       "      <td>1</td>\n",
       "      <td>0</td>\n",
       "      <td>0</td>\n",
       "      <td>0</td>\n",
       "      <td>0</td>\n",
       "    </tr>\n",
       "    <tr>\n",
       "      <th>1</th>\n",
       "      <td>spamburger</td>\n",
       "      <td>1.0</td>\n",
       "      <td>0</td>\n",
       "      <td>0</td>\n",
       "      <td>0</td>\n",
       "      <td>0</td>\n",
       "      <td>0</td>\n",
       "      <td>0</td>\n",
       "      <td>0</td>\n",
       "      <td>0</td>\n",
       "      <td>...</td>\n",
       "      <td>0</td>\n",
       "      <td>0</td>\n",
       "      <td>0</td>\n",
       "      <td>0</td>\n",
       "      <td>0</td>\n",
       "      <td>0</td>\n",
       "      <td>0</td>\n",
       "      <td>0</td>\n",
       "      <td>0</td>\n",
       "      <td>0</td>\n",
       "    </tr>\n",
       "    <tr>\n",
       "      <th>2</th>\n",
       "      <td>bacon-fried-rice</td>\n",
       "      <td>1.0</td>\n",
       "      <td>0</td>\n",
       "      <td>0</td>\n",
       "      <td>0</td>\n",
       "      <td>0</td>\n",
       "      <td>0</td>\n",
       "      <td>0</td>\n",
       "      <td>0</td>\n",
       "      <td>0</td>\n",
       "      <td>...</td>\n",
       "      <td>0</td>\n",
       "      <td>0</td>\n",
       "      <td>0</td>\n",
       "      <td>0</td>\n",
       "      <td>1</td>\n",
       "      <td>0</td>\n",
       "      <td>0</td>\n",
       "      <td>0</td>\n",
       "      <td>0</td>\n",
       "      <td>0</td>\n",
       "    </tr>\n",
       "    <tr>\n",
       "      <th>3</th>\n",
       "      <td>chicken-fingers</td>\n",
       "      <td>1.0</td>\n",
       "      <td>0</td>\n",
       "      <td>0</td>\n",
       "      <td>0</td>\n",
       "      <td>1</td>\n",
       "      <td>0</td>\n",
       "      <td>0</td>\n",
       "      <td>0</td>\n",
       "      <td>0</td>\n",
       "      <td>...</td>\n",
       "      <td>0</td>\n",
       "      <td>0</td>\n",
       "      <td>0</td>\n",
       "      <td>0</td>\n",
       "      <td>0</td>\n",
       "      <td>0</td>\n",
       "      <td>0</td>\n",
       "      <td>0</td>\n",
       "      <td>0</td>\n",
       "      <td>0</td>\n",
       "    </tr>\n",
       "    <tr>\n",
       "      <th>4</th>\n",
       "      <td>apple-crisp</td>\n",
       "      <td>1.0</td>\n",
       "      <td>0</td>\n",
       "      <td>0</td>\n",
       "      <td>0</td>\n",
       "      <td>0</td>\n",
       "      <td>0</td>\n",
       "      <td>1</td>\n",
       "      <td>0</td>\n",
       "      <td>0</td>\n",
       "      <td>...</td>\n",
       "      <td>0</td>\n",
       "      <td>0</td>\n",
       "      <td>0</td>\n",
       "      <td>0</td>\n",
       "      <td>0</td>\n",
       "      <td>0</td>\n",
       "      <td>0</td>\n",
       "      <td>0</td>\n",
       "      <td>1</td>\n",
       "      <td>0</td>\n",
       "    </tr>\n",
       "  </tbody>\n",
       "</table>\n",
       "<p>5 rows × 298 columns</p>\n",
       "</div>"
      ],
      "text/plain": [
       "        recipe_slug  bias  alfredo  almond  american  appetizer  appetizers  \\\n",
       "0           falafel   1.0        0       0         0          1           0   \n",
       "1        spamburger   1.0        0       0         0          0           0   \n",
       "2  bacon-fried-rice   1.0        0       0         0          0           0   \n",
       "3   chicken-fingers   1.0        0       0         0          1           0   \n",
       "4       apple-crisp   1.0        0       0         0          0           0   \n",
       "\n",
       "   apple  asiancuisine  asparagus  ...  udonnoodles  vanilla  vanillaicecream  \\\n",
       "0      0             0          0  ...            0        0                0   \n",
       "1      0             0          0  ...            0        0                0   \n",
       "2      0             0          0  ...            0        0                0   \n",
       "3      0             0          0  ...            0        0                0   \n",
       "4      1             0          0  ...            0        0                0   \n",
       "\n",
       "   vegan  vegetables  vegetarian  warm  whippedcream  winter  yeastdough  \n",
       "0      1           0           1     0             0       0           0  \n",
       "1      0           0           0     0             0       0           0  \n",
       "2      0           1           0     0             0       0           0  \n",
       "3      0           0           0     0             0       0           0  \n",
       "4      0           0           0     0             0       1           0  \n",
       "\n",
       "[5 rows x 298 columns]"
      ]
     },
     "execution_count": 3,
     "metadata": {},
     "output_type": "execute_result"
    }
   ],
   "source": [
    "# Build features.tsv: bias + one-hot tags, aligned to ratings order\n",
    "ratings = pd.read_csv(\"ratings.tsv\", sep=\"\\t\")\n",
    "tags = pd.read_csv(\"recipe-tags.tsv\", sep=\"\\t\")\n",
    "tags = tags.pivot_table(index='recipe_slug', columns='recipe_tag', aggfunc='size', fill_value=0)\n",
    "\n",
    "features = pd.merge(ratings, tags, on='recipe_slug', how='left')\n",
    "features = features.fillna(0)\n",
    "features = features.drop(columns=['rating'])\n",
    "features.insert(1, 'bias', 1.0)\n",
    "features.to_csv(\"features.tsv\", sep=\"\\t\", index=False)\n",
    "\n",
    "features.head()"
   ]
  },
  {
   "cell_type": "markdown",
   "metadata": {
    "id": "w63ji-Oi6oH7"
   },
   "source": [
    "Submit \"features.tsv\" in Gradescope."
   ]
  },
  {
   "cell_type": "markdown",
   "metadata": {
    "id": "4TeXvznlwJzo"
   },
   "source": [
    "## Part 3: Linear Preference Model\n",
    "\n",
    "Use your feature and rating files to build a ridge regression model with ridge regression's regularization parameter $\\alpha$ set to 1.\n"
   ]
  },
  {
   "cell_type": "markdown",
   "metadata": {
    "id": "aVlUnVv4oDIk"
   },
   "source": [
    "Hint: If you are using scikit-learn modeling classes, you should use `fit_intercept=False` since that intercept value will be redundant with the bias coefficient."
   ]
  },
  {
   "cell_type": "markdown",
   "metadata": {
    "id": "NLrBu-z7A45W"
   },
   "source": [
    "Hint: The estimate component of the bounds should match the previous estimate, so you should be able to just focus on the variance component of the bounds now."
   ]
  },
  {
   "cell_type": "code",
   "execution_count": 4,
   "metadata": {
    "id": "dxtiRunPwPYz"
   },
   "outputs": [
    {
     "name": "stdout",
     "output_type": "stream",
     "text": [
      "Mean Squared Error: 0.05348248630468311\n"
     ]
    }
   ],
   "source": [
    "# Run a ridge regression to predict ratings from features\n",
    "from sklearn.linear_model import Ridge\n",
    "from sklearn.model_selection import train_test_split\n",
    "from sklearn.metrics import mean_squared_error\n",
    "\n",
    "# Split the data\n",
    "X = features.drop(columns=['recipe_slug', 'bias'])\n",
    "y = ratings['rating']\n",
    "X_train, X_test, y_train, y_test = train_test_split(X, y, test_size=0.2, random_state=42)\n",
    "\n",
    "# Fit the model\n",
    "model = Ridge(alpha=1.0, fit_intercept=False)\n",
    "model.fit(X_train, y_train)\n",
    "y_pred = model.predict(X_test)\n",
    "\n",
    "# Calculate the mean squared error\n",
    "mse = mean_squared_error(y_test, y_pred)\n",
    "print(f\"Mean Squared Error: {mse}\")\n"
   ]
  },
  {
   "cell_type": "markdown",
   "metadata": {
    "id": "fw9LaHF_8tsA"
   },
   "source": [
    "Save the coefficients of this model in a file \"model.tsv\" with columns \"recipe_tag\" and \"coefficient\".\n",
    "Do not add anything for the `intercept_` attribute of a scikit-learn model; this will be covered by the coefficient for the bias column added in part 2."
   ]
  },
  {
   "cell_type": "code",
   "execution_count": 5,
   "metadata": {
    "id": "fiMBlU4L8uSR"
   },
   "outputs": [],
   "source": [
    "# Save the coefficients of the Ridge model\n",
    "coef_df = pd.DataFrame({\n",
    "    'feature': X.columns,\n",
    "    'coefficient': model.coef_\n",
    "})\n",
    "\n",
    "coef_df.to_csv(\"model.tsv\", sep=\"\\t\", index=False)"
   ]
  },
  {
   "cell_type": "markdown",
   "metadata": {
    "id": "86uS_zZ0wQxC"
   },
   "source": [
    "Submit \"model.tsv\" in Gradescope."
   ]
  },
  {
   "cell_type": "markdown",
   "metadata": {
    "id": "B1Nfs7zCsDpj"
   },
   "source": [
    "## Part 4: Recipe Estimates\n",
    "\n",
    "Use the recipe model to estimate the score of every recipe.\n",
    "Save these estimates to a file \"estimates.tsv\" with columns recipe_slug and score_estimate."
   ]
  },
  {
   "cell_type": "code",
   "execution_count": 6,
   "metadata": {
    "id": "pIClPwYVso5a"
   },
   "outputs": [],
   "source": [
    "# Estimate the score of every recipe in the dataset\n",
    "all_X = features.drop(columns=['recipe_slug', 'bias'])\n",
    "all_y_pred = model.predict(all_X)\n",
    "all_ratings = pd.DataFrame({\n",
    "    'recipe_slug': features['recipe_slug'],\n",
    "    'predicted_rating': all_y_pred\n",
    "})\n",
    "all_ratings.to_csv(\"estimates.tsv\", sep=\"\\t\", index=False)"
   ]
  },
  {
   "cell_type": "markdown",
   "metadata": {
    "id": "i5t3uSE_srMA"
   },
   "source": [
    "Submit \"estimates.tsv\" in Gradescope."
   ]
  },
  {
   "cell_type": "markdown",
   "metadata": {
    "id": "yTBplNhRst8q"
   },
   "source": [
    "## Part 5: LinUCB Bounds\n",
    "\n",
    "Calculate the upper bounds of LinUCB using data corresponding to trying every recipe once and receiving the rating in \"ratings.tsv\" as the reward.\n",
    "Keep the ridge regression regularization parameter at 1, and set LinUCB's $\\alpha$ parameter to 2.\n",
    "Save these upper bounds to a file \"bounds.tsv\" with columns recipe_slug and score_bound."
   ]
  },
  {
   "cell_type": "markdown",
   "metadata": {},
   "source": [
    "<math xmlns=\"http://www.w3.org/1998/Math/MathML\" display=\"block\">\n",
    "  <mtable columnalign=\"right center left\" columnspacing=\"1em\" rowspacing=\"4pt\">\n",
    "    <mtr>\n",
    "      <mtd>\n",
    "        <mi>&#x3B1;</mi>\n",
    "      </mtd>\n",
    "      <mtd>\n",
    "        <mo>=</mo>\n",
    "      </mtd>\n",
    "      <mtd>\n",
    "        <mn>1</mn>\n",
    "        <mo>+</mo>\n",
    "        <msqrt>\n",
    "          <mi>ln</mi>\n",
    "          <mo data-mjx-texclass=\"NONE\">&#x2061;</mo>\n",
    "          <mo stretchy=\"false\">(</mo>\n",
    "          <mn>2</mn>\n",
    "          <mrow data-mjx-texclass=\"ORD\">\n",
    "            <mo>/</mo>\n",
    "          </mrow>\n",
    "          <mi>&#x3B4;</mi>\n",
    "          <mo stretchy=\"false\">)</mo>\n",
    "          <mrow data-mjx-texclass=\"ORD\">\n",
    "            <mo>/</mo>\n",
    "          </mrow>\n",
    "          <mn>2</mn>\n",
    "        </msqrt>\n",
    "      </mtd>\n",
    "    </mtr>\n",
    "    <mtr>\n",
    "      <mtd>\n",
    "        <mrow data-mjx-texclass=\"ORD\">\n",
    "          <mi mathvariant=\"bold\">D</mi>\n",
    "        </mrow>\n",
    "      </mtd>\n",
    "      <mtd>\n",
    "        <mo>=</mo>\n",
    "      </mtd>\n",
    "      <mtd>\n",
    "        <mtext>matrix of rows of previous context vectors</mtext>\n",
    "      </mtd>\n",
    "    </mtr>\n",
    "    <mtr>\n",
    "      <mtd>\n",
    "        <mrow data-mjx-texclass=\"ORD\">\n",
    "          <mover>\n",
    "            <mi>&#x3B8;</mi>\n",
    "            <mo stretchy=\"false\">^</mo>\n",
    "          </mover>\n",
    "        </mrow>\n",
    "      </mtd>\n",
    "      <mtd>\n",
    "        <mo>=</mo>\n",
    "      </mtd>\n",
    "      <mtd>\n",
    "        <mrow>\n",
    "          <mtext>estimate for&#xA0;</mtext>\n",
    "          <mrow data-mjx-texclass=\"ORD\">\n",
    "            <mi>&#x3B8;</mi>\n",
    "          </mrow>\n",
    "          <mtext>&#xA0;using ridge regression</mtext>\n",
    "        </mrow>\n",
    "      </mtd>\n",
    "    </mtr>\n",
    "    <mtr>\n",
    "      <mtd>\n",
    "        <mrow data-mjx-texclass=\"ORD\">\n",
    "          <mi mathvariant=\"bold\">z</mi>\n",
    "        </mrow>\n",
    "      </mtd>\n",
    "      <mtd>\n",
    "        <mo>=</mo>\n",
    "      </mtd>\n",
    "      <mtd>\n",
    "        <mtext>new constant vector</mtext>\n",
    "      </mtd>\n",
    "    </mtr>\n",
    "    <mtr>\n",
    "      <mtd>\n",
    "        <mtext>upper bound</mtext>\n",
    "      </mtd>\n",
    "      <mtd>\n",
    "        <mo>=</mo>\n",
    "      </mtd>\n",
    "      <mtd>\n",
    "        <msup>\n",
    "          <mrow data-mjx-texclass=\"ORD\">\n",
    "            <mi mathvariant=\"bold\">z</mi>\n",
    "          </mrow>\n",
    "          <mrow data-mjx-texclass=\"ORD\">\n",
    "            <mi data-mjx-auto-op=\"false\" mathvariant=\"normal\">T</mi>\n",
    "          </mrow>\n",
    "        </msup>\n",
    "        <mrow data-mjx-texclass=\"ORD\">\n",
    "          <mover>\n",
    "            <mi>&#x3B8;</mi>\n",
    "            <mo stretchy=\"false\">^</mo>\n",
    "          </mover>\n",
    "        </mrow>\n",
    "        <mo>+</mo>\n",
    "        <mi>&#x3B1;</mi>\n",
    "        <msqrt>\n",
    "          <msup>\n",
    "            <mrow data-mjx-texclass=\"ORD\">\n",
    "              <mi mathvariant=\"bold\">z</mi>\n",
    "            </mrow>\n",
    "            <mrow data-mjx-texclass=\"ORD\">\n",
    "              <mi data-mjx-auto-op=\"false\" mathvariant=\"normal\">T</mi>\n",
    "            </mrow>\n",
    "          </msup>\n",
    "          <msup>\n",
    "            <mrow data-mjx-texclass=\"INNER\">\n",
    "              <mo data-mjx-texclass=\"OPEN\">(</mo>\n",
    "              <msup>\n",
    "                <mrow data-mjx-texclass=\"ORD\">\n",
    "                  <mi mathvariant=\"bold\">D</mi>\n",
    "                </mrow>\n",
    "                <mrow data-mjx-texclass=\"ORD\">\n",
    "                  <mi data-mjx-auto-op=\"false\" mathvariant=\"normal\">T</mi>\n",
    "                </mrow>\n",
    "              </msup>\n",
    "              <mrow data-mjx-texclass=\"ORD\">\n",
    "                <mi mathvariant=\"bold\">D</mi>\n",
    "              </mrow>\n",
    "              <mo>+</mo>\n",
    "              <msub>\n",
    "                <mrow data-mjx-texclass=\"ORD\">\n",
    "                  <mi mathvariant=\"bold\">I</mi>\n",
    "                </mrow>\n",
    "                <mi>d</mi>\n",
    "              </msub>\n",
    "              <mo data-mjx-texclass=\"CLOSE\">)</mo>\n",
    "            </mrow>\n",
    "            <mrow data-mjx-texclass=\"ORD\">\n",
    "              <mo>&#x2212;</mo>\n",
    "              <mn>1</mn>\n",
    "            </mrow>\n",
    "          </msup>\n",
    "          <mrow data-mjx-texclass=\"ORD\">\n",
    "            <mi mathvariant=\"bold\">z</mi>\n",
    "          </mrow>\n",
    "        </msqrt>\n",
    "      </mtd>\n",
    "    </mtr>\n",
    "  </mtable>\n",
    "</math>\n"
   ]
  },
  {
   "cell_type": "code",
   "execution_count": 8,
   "metadata": {
    "id": "kY7aWD_PuP0W"
   },
   "outputs": [
    {
     "data": {
      "text/html": [
       "<div>\n",
       "<style scoped>\n",
       "    .dataframe tbody tr th:only-of-type {\n",
       "        vertical-align: middle;\n",
       "    }\n",
       "\n",
       "    .dataframe tbody tr th {\n",
       "        vertical-align: top;\n",
       "    }\n",
       "\n",
       "    .dataframe thead th {\n",
       "        text-align: right;\n",
       "    }\n",
       "</style>\n",
       "<table border=\"1\" class=\"dataframe\">\n",
       "  <thead>\n",
       "    <tr style=\"text-align: right;\">\n",
       "      <th></th>\n",
       "      <th>recipe_slug</th>\n",
       "      <th>score_bound</th>\n",
       "    </tr>\n",
       "  </thead>\n",
       "  <tbody>\n",
       "    <tr>\n",
       "      <th>0</th>\n",
       "      <td>falafel</td>\n",
       "      <td>9.373732</td>\n",
       "    </tr>\n",
       "    <tr>\n",
       "      <th>1</th>\n",
       "      <td>spamburger</td>\n",
       "      <td>13.688931</td>\n",
       "    </tr>\n",
       "    <tr>\n",
       "      <th>2</th>\n",
       "      <td>bacon-fried-rice</td>\n",
       "      <td>16.517038</td>\n",
       "    </tr>\n",
       "    <tr>\n",
       "      <th>3</th>\n",
       "      <td>chicken-fingers</td>\n",
       "      <td>8.901273</td>\n",
       "    </tr>\n",
       "    <tr>\n",
       "      <th>4</th>\n",
       "      <td>apple-crisp</td>\n",
       "      <td>17.191570</td>\n",
       "    </tr>\n",
       "  </tbody>\n",
       "</table>\n",
       "</div>"
      ],
      "text/plain": [
       "        recipe_slug  score_bound\n",
       "0           falafel     9.373732\n",
       "1        spamburger    13.688931\n",
       "2  bacon-fried-rice    16.517038\n",
       "3   chicken-fingers     8.901273\n",
       "4       apple-crisp    17.191570"
      ]
     },
     "execution_count": 8,
     "metadata": {},
     "output_type": "execute_result"
    }
   ],
   "source": [
    "# Calculate the upper bounds of LinUCB\n",
    "alpha = 1.0\n",
    "lambda_ridge = 1.0\n",
    "\n",
    "# Use similar features and target from Ridge model\n",
    "X_ucb = features.drop(columns=['recipe_slug', 'bias']).to_numpy()\n",
    "y_ucb = ratings['rating'].to_numpy()\n",
    "\n",
    "# weights for each feature\n",
    "model_weights = model.coef_\n",
    "mu = X_ucb @ model_weights\n",
    "\n",
    "# Ridge covariance matrix\n",
    "cov_matrix = np.linalg.inv(lambda_ridge * np.eye(X_ucb.shape[1]) + X_ucb.T @ X_ucb)\n",
    "inv_cov_matrix = np.linalg.inv(cov_matrix)\n",
    "\n",
    "# Uncertainty term and bounds calculation\n",
    "std_term = np.sqrt(np.einsum('ij,jk,ik->i', X_ucb, inv_cov_matrix, X_ucb))\n",
    "score_bounds = mu + alpha * std_term\n",
    "\n",
    "bounds = pd.DataFrame({\n",
    "    'recipe_slug': features['recipe_slug'],\n",
    "    'score_bound': score_bounds\n",
    "})\n",
    "\n",
    "bounds.to_csv(\"bounds.tsv\", sep=\"\\t\", index=False)\n",
    "\n",
    "bounds.head()"
   ]
  },
  {
   "cell_type": "markdown",
   "metadata": {
    "id": "ZQ4RPppFvG-S"
   },
   "source": [
    "Submit \"bounds.tsv\" in Gradescope."
   ]
  },
  {
   "cell_type": "markdown",
   "metadata": {
    "id": "AfazOSWlwYsP"
   },
   "source": [
    "## Part 6: Make Online Recommendations\n",
    "\n",
    "Implement LinUCB to make 100 recommendations starting with no data and using the same parameters as in part 5.\n",
    "One recommendation should be made at a time and you can break ties arbitrarily.\n",
    "After each recommendation, use the rating from part 1 as the reward to update the LinUCB data.\n",
    "Record the recommendations made in a file \"recommendations.tsv\" with columns \"recipe_slug\", \"score_bound\", and \"reward\".\n",
    "The rows in this file should be in the same order as the recommendations were made."
   ]
  },
  {
   "cell_type": "code",
   "execution_count": 9,
   "metadata": {
    "id": "hQ7r45B7wm4v"
   },
   "outputs": [
    {
     "data": {
      "text/html": [
       "<div>\n",
       "<style scoped>\n",
       "    .dataframe tbody tr th:only-of-type {\n",
       "        vertical-align: middle;\n",
       "    }\n",
       "\n",
       "    .dataframe tbody tr th {\n",
       "        vertical-align: top;\n",
       "    }\n",
       "\n",
       "    .dataframe thead th {\n",
       "        text-align: right;\n",
       "    }\n",
       "</style>\n",
       "<table border=\"1\" class=\"dataframe\">\n",
       "  <thead>\n",
       "    <tr style=\"text-align: right;\">\n",
       "      <th></th>\n",
       "      <th>recipe_slug</th>\n",
       "      <th>score_bound</th>\n",
       "      <th>reward</th>\n",
       "    </tr>\n",
       "  </thead>\n",
       "  <tbody>\n",
       "    <tr>\n",
       "      <th>0</th>\n",
       "      <td>apple-crumble</td>\n",
       "      <td>3.605551</td>\n",
       "      <td>0.000000</td>\n",
       "    </tr>\n",
       "    <tr>\n",
       "      <th>1</th>\n",
       "      <td>ma-la-chicken</td>\n",
       "      <td>3.464102</td>\n",
       "      <td>0.599422</td>\n",
       "    </tr>\n",
       "    <tr>\n",
       "      <th>2</th>\n",
       "      <td>quesadillas</td>\n",
       "      <td>3.499090</td>\n",
       "      <td>0.000000</td>\n",
       "    </tr>\n",
       "    <tr>\n",
       "      <th>3</th>\n",
       "      <td>ramen</td>\n",
       "      <td>3.488940</td>\n",
       "      <td>0.000000</td>\n",
       "    </tr>\n",
       "    <tr>\n",
       "      <th>4</th>\n",
       "      <td>bacon-fried-rice</td>\n",
       "      <td>3.337956</td>\n",
       "      <td>1.000000</td>\n",
       "    </tr>\n",
       "  </tbody>\n",
       "</table>\n",
       "</div>"
      ],
      "text/plain": [
       "        recipe_slug  score_bound    reward\n",
       "0     apple-crumble     3.605551  0.000000\n",
       "1     ma-la-chicken     3.464102  0.599422\n",
       "2       quesadillas     3.499090  0.000000\n",
       "3             ramen     3.488940  0.000000\n",
       "4  bacon-fried-rice     3.337956  1.000000"
      ]
     },
     "execution_count": 9,
     "metadata": {},
     "output_type": "execute_result"
    }
   ],
   "source": [
    "# Implement LinUCB to make recommendations\n",
    "# Contexts: same features used earlier (exclude slug and bias)\n",
    "Z = features.drop(columns=['recipe_slug', 'bias']).to_numpy(dtype=float)\n",
    "slugs = features['recipe_slug'].tolist()\n",
    "\n",
    "# True rewards from Part 1 ratings\n",
    "rating_map = dict(zip(ratings['recipe_slug'], ratings['rating']))\n",
    "\n",
    "d = Z.shape[1]\n",
    "A_inv = (1.0 / lambda_ridge) * np.eye(d)  # initial (lambda I)^-1\n",
    "b = np.zeros(d)\n",
    "\n",
    "def ucb_scores(Z_block, A_inv, theta, alpha):\n",
    "    mean = Z_block @ theta\n",
    "    var = np.einsum('ij,jk,ik->i', Z_block, A_inv, Z_block)\n",
    "    return mean + alpha * np.sqrt(var)\n",
    "\n",
    "recommendations = []\n",
    "remaining = list(range(len(slugs)))\n",
    "\n",
    "for t in range(min(100, len(slugs))):\n",
    "    theta = A_inv @ b\n",
    "\n",
    "    # UCB on remaining candidates\n",
    "    Z_rem = Z[remaining]\n",
    "    p = ucb_scores(Z_rem, A_inv, theta, alpha)\n",
    "\n",
    "    # Pick best (break ties by first occurrence)\n",
    "    pick_pos = int(np.argmax(p))\n",
    "    i = remaining.pop(pick_pos)\n",
    "\n",
    "    x = Z[i]\n",
    "    slug = slugs[i]\n",
    "    reward = float(rating_map[slug])\n",
    "    score_bound = float(p[pick_pos])\n",
    "\n",
    "    recommendations.append((slug, score_bound, reward))\n",
    "\n",
    "    # Sherman-Morrison update: A_inv <- (A + x x^T)^-1\n",
    "    Ax = A_inv @ x\n",
    "    denom = 1.0 + x @ Ax\n",
    "    A_inv = A_inv - np.outer(Ax, Ax) / denom\n",
    "\n",
    "    # Update b\n",
    "    b = b + reward * x\n",
    "\n",
    "# Save recommendations\n",
    "recs_df = pd.DataFrame(recommendations, columns=['recipe_slug', 'score_bound', 'reward'])\n",
    "recs_df.to_csv(\"recommendations.tsv\", sep=\"\\t\", index=False)\n",
    "\n",
    "recs_df.head()\n",
    "# ...existing code..."
   ]
  },
  {
   "cell_type": "markdown",
   "metadata": {
    "id": "23jv0cD0woSt"
   },
   "source": [
    "Submit \"recommendations.tsv\" in Gradescope."
   ]
  },
  {
   "cell_type": "markdown",
   "metadata": {
    "id": "zi8lV2pbvWMs"
   },
   "source": [
    "## Part 7: Acknowledgments\n",
    "\n",
    "Make a file \"acknowledgments.txt\" documenting any outside sources or help on this project.\n",
    "If you discussed this assignment with anyone, please acknowledge them here.\n",
    "If you used any libraries not mentioned in this module's content, please list them with a brief explanation what you used them for.\n",
    "If you used any generative AI tools, please add links to your transcripts below, and any other information that you feel is necessary to comply with the generative AI policy.\n",
    "If no acknowledgements are appropriate, just write none in the file.\n"
   ]
  },
  {
   "cell_type": "markdown",
   "metadata": {
    "id": "SuNJe62UxCoH"
   },
   "source": [
    "Submit \"acknowledgments.txt\" in Gradescope."
   ]
  },
  {
   "cell_type": "code",
   "execution_count": 10,
   "metadata": {},
   "outputs": [],
   "source": [
    "with open(\"acknowledgments.txt\", \"w\") as f:\n",
    "    f.write(\"Acknowledgments:\\n\")\n",
    "    f.write(\"I'd like to acknowledge my peers for their support and engagement on piazza, their conversations were helpful in debugging errors with the autograder\\n\")\n",
    "    f.write(\"I'd also like to acknowledge Professor Considine for his video lectures, content on blackboard, and the example notebooks.\\n\")\n",
    "    f.write(\"Finally, I'd like to acknowledge ChatGPT for helping me debug some of my code and providing suggestions on how to implement certain algorithms.\\n\")"
   ]
  },
  {
   "cell_type": "markdown",
   "metadata": {
    "id": "smsTLuFcvR-I"
   },
   "source": [
    "## Part 8: Code\n",
    "\n",
    "Please submit a Jupyter notebook that can reproduce all your calculations and recreate the previously submitted files.\n"
   ]
  },
  {
   "cell_type": "markdown",
   "metadata": {
    "id": "3cgzHyF7wxpr"
   },
   "source": [
    "Submit \"project.ipynb\" in Gradescope."
   ]
  }
 ],
 "metadata": {
  "colab": {
   "toc_visible": false
  },
  "kernelspec": {
   "display_name": ".venv",
   "language": "python",
   "name": "python3"
  },
  "language_info": {
   "codemirror_mode": {
    "name": "ipython",
    "version": 3
   },
   "file_extension": ".py",
   "mimetype": "text/x-python",
   "name": "python",
   "nbconvert_exporter": "python",
   "pygments_lexer": "ipython3",
   "version": "3.13.2"
  }
 },
 "nbformat": 4,
 "nbformat_minor": 0
}
